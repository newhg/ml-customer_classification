{
 "cells": [
  {
   "cell_type": "code",
   "execution_count": 1,
   "metadata": {},
   "outputs": [],
   "source": [
    "from sklearn import datasets\n",
    "from sklearn.model_selection import train_test_split\n",
    "import xgboost as xgb\n",
    "from sklearn import metrics\n",
    "import numpy as np\n",
    "import pandas as pd\n",
    "from scipy.stats import scoreatpercentile\n",
    "import seaborn as sns\n",
    "import matplotlib.pyplot as plt\n",
    "from sklearn.metrics import roc_curve, auc"
   ]
  },
  {
   "cell_type": "code",
   "execution_count": 2,
   "metadata": {},
   "outputs": [],
   "source": [
    "#定义KS曲线\n",
    "import matplotlib.pyplot as plt\n",
    "def PlotKS(preds, labels, n, asc):\n",
    "   \n",
    "  # preds is score: asc=1\n",
    "  # preds is prob: asc=0\n",
    "   \n",
    "  pred = preds # 预测值\n",
    "  bad = labels # 取1为bad, 0为good\n",
    "  ksds = pd.DataFrame({'bad': bad, 'pred': pred})\n",
    "  ksds['good'] = 1 - ksds.bad\n",
    "   \n",
    "  if asc == 1:\n",
    "    ksds1 = ksds.sort_values(by=['pred', 'bad'], ascending=[True, True])\n",
    "  elif asc == 0:\n",
    "    ksds1 = ksds.sort_values(by=['pred', 'bad'], ascending=[False, True])\n",
    "  ksds1.index = range(len(ksds1.pred))\n",
    "  ksds1['cumsum_good1'] = 1.0*ksds1.good.cumsum()/sum(ksds1.good)\n",
    "  ksds1['cumsum_bad1'] = 1.0*ksds1.bad.cumsum()/sum(ksds1.bad)\n",
    "   \n",
    "  if asc == 1:\n",
    "    ksds2 = ksds.sort_values(by=['pred', 'bad'], ascending=[True, False])\n",
    "  elif asc == 0:\n",
    "    ksds2 = ksds.sort_values(by=['pred', 'bad'], ascending=[False, False])\n",
    "  ksds2.index = range(len(ksds2.pred))\n",
    "  ksds2['cumsum_good2'] = 1.0*ksds2.good.cumsum()/sum(ksds2.good)\n",
    "  ksds2['cumsum_bad2'] = 1.0*ksds2.bad.cumsum()/sum(ksds2.bad)\n",
    "   \n",
    "  # ksds1 ksds2 -> average\n",
    "  ksds = ksds1[['cumsum_good1', 'cumsum_bad1']]\n",
    "  ksds['cumsum_good2'] = ksds2['cumsum_good2']\n",
    "  ksds['cumsum_bad2'] = ksds2['cumsum_bad2']\n",
    "  ksds['cumsum_good'] = (ksds['cumsum_good1'] + ksds['cumsum_good2'])/2\n",
    "  ksds['cumsum_bad'] = (ksds['cumsum_bad1'] + ksds['cumsum_bad2'])/2\n",
    "   \n",
    "  # ks\n",
    "  ksds['ks'] =  ksds['cumsum_good']-ksds['cumsum_bad']\n",
    "  ksds['tile0'] = range(1, len(ksds.ks) + 1)\n",
    "  ksds['tile'] = 1.0*ksds['tile0']/len(ksds['tile0'])\n",
    "   \n",
    "  qe = list(np.arange(0, 1, 1.0/n))\n",
    "  qe.append(1)\n",
    "  qe = qe[1:]\n",
    "   \n",
    "  ks_index = pd.Series(ksds.index)\n",
    "  ks_index = ks_index.quantile(q = qe)\n",
    "  ks_index = np.ceil(ks_index).astype(int)\n",
    "  ks_index = list(ks_index)\n",
    "   \n",
    "  ksds = ksds.loc[ks_index]\n",
    "  ksds = ksds[['tile', 'cumsum_good', 'cumsum_bad', 'ks']]\n",
    "  ksds0 = np.array([[0, 0, 0, 0]])\n",
    "  ksds = np.concatenate([ksds0, ksds], axis=0)\n",
    "  ksds = pd.DataFrame(ksds, columns=['tile', 'cumsum_good', 'cumsum_bad', 'ks'])\n",
    "   \n",
    "  ks_value = ksds.ks.max()\n",
    "  ks_pop = ksds.tile[ksds.ks.idxmax()]\n",
    "  print ('ks_value is ' + str(np.round(ks_value, 4)) + ' at pop = ' + str(np.round(ks_pop, 4)))\n",
    "   \n",
    "  # chart\n",
    "  plt.plot(ksds.tile, ksds.cumsum_good, label='cum_good',\n",
    "             color='blue', linestyle='-', linewidth=2)\n",
    "              \n",
    "  plt.plot(ksds.tile, ksds.cumsum_bad, label='cum_bad',\n",
    "            color='red', linestyle='-', linewidth=2)\n",
    "            \n",
    "             \n",
    "  plt.axvline(ks_pop, color='gray', linestyle='--')\n",
    "  plt.axhline(ks_value, color='green', linestyle='--')\n",
    "  plt.axhline(ksds.loc[ksds.ks.idxmax(), 'cumsum_good'], color='blue', linestyle='--')\n",
    "  plt.axhline(ksds.loc[ksds.ks.idxmax(),'cumsum_bad'], color='red', linestyle='--')\n",
    "  plt.title('KS=%s ' %np.round(ks_value, 4) +\n",
    "        'at Pop=%s' %np.round(ks_pop, 4), fontsize=15)\n",
    "   \n",
    " \n",
    "  return ksds"
   ]
  },
  {
   "cell_type": "markdown",
   "metadata": {},
   "source": [
    "# 读取数据"
   ]
  },
  {
   "cell_type": "code",
   "execution_count": 2,
   "metadata": {},
   "outputs": [
    {
     "data": {
      "text/html": [
       "<div>\n",
       "<style scoped>\n",
       "    .dataframe tbody tr th:only-of-type {\n",
       "        vertical-align: middle;\n",
       "    }\n",
       "\n",
       "    .dataframe tbody tr th {\n",
       "        vertical-align: top;\n",
       "    }\n",
       "\n",
       "    .dataframe thead th {\n",
       "        text-align: right;\n",
       "    }\n",
       "</style>\n",
       "<table border=\"1\" class=\"dataframe\">\n",
       "  <thead>\n",
       "    <tr style=\"text-align: right;\">\n",
       "      <th></th>\n",
       "      <th>MTH_TEL_BILL</th>\n",
       "      <th>als_m3_id_nbank_tot_mons</th>\n",
       "      <th>als_m12_id_bank_tot_mons</th>\n",
       "      <th>RACE</th>\n",
       "      <th>SINGE_DATE</th>\n",
       "      <th>BIRTHDAY</th>\n",
       "      <th>m1_num</th>\n",
       "      <th>als_lst_id_bank_inteday</th>\n",
       "      <th>als_lst_id_nbank_consnum</th>\n",
       "      <th>m6_num</th>\n",
       "      <th>...</th>\n",
       "      <th>m3_day</th>\n",
       "      <th>m3_num</th>\n",
       "      <th>MONTH_RATE</th>\n",
       "      <th>REPAY_DAY</th>\n",
       "      <th>als_m12_id_nbank_tot_mons</th>\n",
       "      <th>als_lst_id_bank_consnum</th>\n",
       "      <th>MTH_REPAY_AMT</th>\n",
       "      <th>als_m6_id_bank_tot_mons</th>\n",
       "      <th>d7_num</th>\n",
       "      <th>y</th>\n",
       "    </tr>\n",
       "  </thead>\n",
       "  <tbody>\n",
       "    <tr>\n",
       "      <td>0</td>\n",
       "      <td>0</td>\n",
       "      <td>1</td>\n",
       "      <td>0</td>\n",
       "      <td>1</td>\n",
       "      <td>2</td>\n",
       "      <td>28</td>\n",
       "      <td>8</td>\n",
       "      <td>0</td>\n",
       "      <td>1</td>\n",
       "      <td>12.0</td>\n",
       "      <td>...</td>\n",
       "      <td>352</td>\n",
       "      <td>12.00</td>\n",
       "      <td>1.03</td>\n",
       "      <td>8</td>\n",
       "      <td>1</td>\n",
       "      <td>0</td>\n",
       "      <td>310</td>\n",
       "      <td>0</td>\n",
       "      <td>8</td>\n",
       "      <td>0</td>\n",
       "    </tr>\n",
       "    <tr>\n",
       "      <td>1</td>\n",
       "      <td>1</td>\n",
       "      <td>1</td>\n",
       "      <td>0</td>\n",
       "      <td>0</td>\n",
       "      <td>1</td>\n",
       "      <td>20</td>\n",
       "      <td>10</td>\n",
       "      <td>0</td>\n",
       "      <td>1</td>\n",
       "      <td>14.0</td>\n",
       "      <td>...</td>\n",
       "      <td>352</td>\n",
       "      <td>14.00</td>\n",
       "      <td>1.67</td>\n",
       "      <td>11</td>\n",
       "      <td>1</td>\n",
       "      <td>0</td>\n",
       "      <td>273</td>\n",
       "      <td>0</td>\n",
       "      <td>10</td>\n",
       "      <td>0</td>\n",
       "    </tr>\n",
       "    <tr>\n",
       "      <td>2</td>\n",
       "      <td>0</td>\n",
       "      <td>2</td>\n",
       "      <td>5</td>\n",
       "      <td>0</td>\n",
       "      <td>3</td>\n",
       "      <td>31</td>\n",
       "      <td>6</td>\n",
       "      <td>12</td>\n",
       "      <td>1</td>\n",
       "      <td>101.8</td>\n",
       "      <td>...</td>\n",
       "      <td>138</td>\n",
       "      <td>37.33</td>\n",
       "      <td>1.09</td>\n",
       "      <td>10</td>\n",
       "      <td>6</td>\n",
       "      <td>1</td>\n",
       "      <td>288</td>\n",
       "      <td>3</td>\n",
       "      <td>0</td>\n",
       "      <td>0</td>\n",
       "    </tr>\n",
       "    <tr>\n",
       "      <td>3</td>\n",
       "      <td>0</td>\n",
       "      <td>1</td>\n",
       "      <td>0</td>\n",
       "      <td>0</td>\n",
       "      <td>2</td>\n",
       "      <td>23</td>\n",
       "      <td>10</td>\n",
       "      <td>0</td>\n",
       "      <td>1</td>\n",
       "      <td>14.0</td>\n",
       "      <td>...</td>\n",
       "      <td>352</td>\n",
       "      <td>14.00</td>\n",
       "      <td>1.67</td>\n",
       "      <td>10</td>\n",
       "      <td>1</td>\n",
       "      <td>0</td>\n",
       "      <td>399</td>\n",
       "      <td>0</td>\n",
       "      <td>10</td>\n",
       "      <td>0</td>\n",
       "    </tr>\n",
       "    <tr>\n",
       "      <td>4</td>\n",
       "      <td>0</td>\n",
       "      <td>1</td>\n",
       "      <td>0</td>\n",
       "      <td>0</td>\n",
       "      <td>4</td>\n",
       "      <td>40</td>\n",
       "      <td>0</td>\n",
       "      <td>0</td>\n",
       "      <td>1</td>\n",
       "      <td>18.0</td>\n",
       "      <td>...</td>\n",
       "      <td>352</td>\n",
       "      <td>14.00</td>\n",
       "      <td>1.03</td>\n",
       "      <td>28</td>\n",
       "      <td>2</td>\n",
       "      <td>0</td>\n",
       "      <td>310</td>\n",
       "      <td>0</td>\n",
       "      <td>0</td>\n",
       "      <td>0</td>\n",
       "    </tr>\n",
       "  </tbody>\n",
       "</table>\n",
       "<p>5 rows × 36 columns</p>\n",
       "</div>"
      ],
      "text/plain": [
       "   MTH_TEL_BILL  als_m3_id_nbank_tot_mons  als_m12_id_bank_tot_mons  RACE  \\\n",
       "0             0                         1                         0     1   \n",
       "1             1                         1                         0     0   \n",
       "2             0                         2                         5     0   \n",
       "3             0                         1                         0     0   \n",
       "4             0                         1                         0     0   \n",
       "\n",
       "   SINGE_DATE  BIRTHDAY  m1_num  als_lst_id_bank_inteday  \\\n",
       "0           2        28       8                        0   \n",
       "1           1        20      10                        0   \n",
       "2           3        31       6                       12   \n",
       "3           2        23      10                        0   \n",
       "4           4        40       0                        0   \n",
       "\n",
       "   als_lst_id_nbank_consnum  m6_num  ...  m3_day  m3_num  MONTH_RATE  \\\n",
       "0                         1    12.0  ...     352   12.00        1.03   \n",
       "1                         1    14.0  ...     352   14.00        1.67   \n",
       "2                         1   101.8  ...     138   37.33        1.09   \n",
       "3                         1    14.0  ...     352   14.00        1.67   \n",
       "4                         1    18.0  ...     352   14.00        1.03   \n",
       "\n",
       "   REPAY_DAY  als_m12_id_nbank_tot_mons  als_lst_id_bank_consnum  \\\n",
       "0          8                          1                        0   \n",
       "1         11                          1                        0   \n",
       "2         10                          6                        1   \n",
       "3         10                          1                        0   \n",
       "4         28                          2                        0   \n",
       "\n",
       "   MTH_REPAY_AMT  als_m6_id_bank_tot_mons  d7_num  y  \n",
       "0            310                        0       8  0  \n",
       "1            273                        0      10  0  \n",
       "2            288                        3       0  0  \n",
       "3            399                        0      10  0  \n",
       "4            310                        0       0  0  \n",
       "\n",
       "[5 rows x 36 columns]"
      ]
     },
     "execution_count": 2,
     "metadata": {},
     "output_type": "execute_result"
    }
   ],
   "source": [
    "data =  pd.read_csv('train.csv')\n",
    "data.head()"
   ]
  },
  {
   "cell_type": "code",
   "execution_count": 3,
   "metadata": {},
   "outputs": [
    {
     "data": {
      "text/plain": [
       "0    2656\n",
       "1     344\n",
       "Name: y, dtype: int64"
      ]
     },
     "execution_count": 3,
     "metadata": {},
     "output_type": "execute_result"
    }
   ],
   "source": [
    "data.y.value_counts()"
   ]
  },
  {
   "cell_type": "markdown",
   "metadata": {},
   "source": [
    "# 特征工程"
   ]
  },
  {
   "cell_type": "code",
   "execution_count": 7,
   "metadata": {},
   "outputs": [
    {
     "data": {
      "image/png": "[encoded data removed]",
      "text/plain": [
       "<Figure size 1440x1080 with 36 Axes>"
      ]
     },
     "metadata": {
      "needs_background": "light"
     },
     "output_type": "display_data"
    }
   ],
   "source": [
    "data.hist(figsize=(20, 15), bins=50, grid=True)\n",
    "plt.show()"
   ]
  },
  {
   "cell_type": "code",
   "execution_count": 6,
   "metadata": {},
   "outputs": [],
   "source": [
    " continuous_cols = data.columns.values.tolist()\n",
    "# for col in continuous_cols:\n",
    "#     sns.jointplot(x=col, y=\"y\", data=data, alpha=0.3, size=4)"
   ]
  },
  {
   "cell_type": "code",
   "execution_count": 7,
   "metadata": {},
   "outputs": [
    {
     "name": "stderr",
     "output_type": "stream",
     "text": [
      "C:\\Users\\85185\\AppData\\Local\\Continuum\\anaconda3\\lib\\site-packages\\ipykernel_launcher.py:3: FutureWarning: `Series.plot()` should not be called with positional arguments, only keyword arguments. The order of positional arguments will change in the future. Use `Series.plot(kind='barh')` instead of `Series.plot('barh',)`.\n",
      "  This is separate from the ipykernel package so we can avoid doing imports until\n"
     ]
    },
    {
     "data": {
      "text/plain": [
       "<matplotlib.axes._subplots.AxesSubplot at 0x21205a89bc8>"
      ]
     },
     "execution_count": 7,
     "metadata": {},
     "output_type": "execute_result"
    },
    {
     "data": {
      "image/png": "[encoded data removed]",
      "text/plain": [
       "<Figure size 864x432 with 1 Axes>"
      ]
     },
     "metadata": {
      "needs_background": "light"
     },
     "output_type": "display_data"
    }
   ],
   "source": [
    "plt.figure(figsize=(12, 6))\n",
    "data.corr()['y'][continuous_cols].sort_values(ascending=False).plot(\n",
    "    'barh', figsize=(12, 6), title='Variable Correlation with y'\n",
    ")"
   ]
  },
  {
   "cell_type": "code",
   "execution_count": 8,
   "metadata": {},
   "outputs": [],
   "source": [
    "data = data.drop(['LIVE_TIME_SPAN','BIRTHDAY','IS_REAL_NAME','IS_FML_CTC_TRUE','ORG_SIZE','als_m3_id_nbank_tot_mons','als_m12_id_bank_tot_mons'],axis=1)"
   ]
  },
  {
   "cell_type": "code",
   "execution_count": 9,
   "metadata": {},
   "outputs": [],
   "source": [
    "y = data['y']\n",
    "X = data.drop(['y'],axis=1)\n",
    "X_train,X_test,y_train,y_test = train_test_split(X,y,test_size = 0.2,random_state = 0)"
   ]
  },
  {
   "cell_type": "code",
   "execution_count": 10,
   "metadata": {},
   "outputs": [
    {
     "data": {
      "text/html": [
       "<div>\n",
       "<style scoped>\n",
       "    .dataframe tbody tr th:only-of-type {\n",
       "        vertical-align: middle;\n",
       "    }\n",
       "\n",
       "    .dataframe tbody tr th {\n",
       "        vertical-align: top;\n",
       "    }\n",
       "\n",
       "    .dataframe thead th {\n",
       "        text-align: right;\n",
       "    }\n",
       "</style>\n",
       "<table border=\"1\" class=\"dataframe\">\n",
       "  <thead>\n",
       "    <tr style=\"text-align: right;\">\n",
       "      <th></th>\n",
       "      <th>y</th>\n",
       "      <th>als_fst_id_nbank_inteday</th>\n",
       "      <th>d7_num</th>\n",
       "      <th>als_m12_id_nbank_tot_mons</th>\n",
       "      <th>FIRST_REPAY</th>\n",
       "      <th>als_m12_id_tot_mons</th>\n",
       "      <th>FLX_PACKAGE</th>\n",
       "      <th>m12_num</th>\n",
       "      <th>m6_num</th>\n",
       "      <th>als_lst_id_nbank_consnum</th>\n",
       "      <th>...</th>\n",
       "      <th>als_m6_id_tot_mons</th>\n",
       "      <th>m6_day</th>\n",
       "      <th>APROV_DURATION</th>\n",
       "      <th>TOTAL_PRICE</th>\n",
       "      <th>MONTH_RATE</th>\n",
       "      <th>d15_num</th>\n",
       "      <th>m12_day</th>\n",
       "      <th>MTH_REPAY_AMT</th>\n",
       "      <th>m3_day</th>\n",
       "      <th>m1_num</th>\n",
       "    </tr>\n",
       "  </thead>\n",
       "  <tbody>\n",
       "    <tr>\n",
       "      <td>5</td>\n",
       "      <td>1</td>\n",
       "      <td>180</td>\n",
       "      <td>16</td>\n",
       "      <td>3</td>\n",
       "      <td>463</td>\n",
       "      <td>3</td>\n",
       "      <td>0.65</td>\n",
       "      <td>66.00</td>\n",
       "      <td>33.0</td>\n",
       "      <td>3</td>\n",
       "      <td>...</td>\n",
       "      <td>2</td>\n",
       "      <td>190</td>\n",
       "      <td>0.73</td>\n",
       "      <td>8130</td>\n",
       "      <td>1.67</td>\n",
       "      <td>16</td>\n",
       "      <td>190</td>\n",
       "      <td>463</td>\n",
       "      <td>352</td>\n",
       "      <td>16</td>\n",
       "    </tr>\n",
       "    <tr>\n",
       "      <td>9</td>\n",
       "      <td>1</td>\n",
       "      <td>1</td>\n",
       "      <td>8</td>\n",
       "      <td>1</td>\n",
       "      <td>649</td>\n",
       "      <td>1</td>\n",
       "      <td>0.65</td>\n",
       "      <td>12.00</td>\n",
       "      <td>12.0</td>\n",
       "      <td>1</td>\n",
       "      <td>...</td>\n",
       "      <td>1</td>\n",
       "      <td>712</td>\n",
       "      <td>0.57</td>\n",
       "      <td>8490</td>\n",
       "      <td>1.67</td>\n",
       "      <td>8</td>\n",
       "      <td>1428</td>\n",
       "      <td>649</td>\n",
       "      <td>352</td>\n",
       "      <td>8</td>\n",
       "    </tr>\n",
       "    <tr>\n",
       "      <td>12</td>\n",
       "      <td>1</td>\n",
       "      <td>1</td>\n",
       "      <td>8</td>\n",
       "      <td>1</td>\n",
       "      <td>630</td>\n",
       "      <td>1</td>\n",
       "      <td>0.67</td>\n",
       "      <td>12.00</td>\n",
       "      <td>12.0</td>\n",
       "      <td>1</td>\n",
       "      <td>...</td>\n",
       "      <td>1</td>\n",
       "      <td>712</td>\n",
       "      <td>1.22</td>\n",
       "      <td>7831</td>\n",
       "      <td>1.67</td>\n",
       "      <td>8</td>\n",
       "      <td>1428</td>\n",
       "      <td>630</td>\n",
       "      <td>352</td>\n",
       "      <td>8</td>\n",
       "    </tr>\n",
       "    <tr>\n",
       "      <td>31</td>\n",
       "      <td>1</td>\n",
       "      <td>271</td>\n",
       "      <td>10</td>\n",
       "      <td>3</td>\n",
       "      <td>246</td>\n",
       "      <td>3</td>\n",
       "      <td>0.80</td>\n",
       "      <td>40.66</td>\n",
       "      <td>33.0</td>\n",
       "      <td>1</td>\n",
       "      <td>...</td>\n",
       "      <td>2</td>\n",
       "      <td>216</td>\n",
       "      <td>9.32</td>\n",
       "      <td>4243</td>\n",
       "      <td>1.33</td>\n",
       "      <td>10</td>\n",
       "      <td>368</td>\n",
       "      <td>246</td>\n",
       "      <td>88</td>\n",
       "      <td>18</td>\n",
       "    </tr>\n",
       "    <tr>\n",
       "      <td>35</td>\n",
       "      <td>1</td>\n",
       "      <td>1</td>\n",
       "      <td>30</td>\n",
       "      <td>1</td>\n",
       "      <td>395</td>\n",
       "      <td>1</td>\n",
       "      <td>0.65</td>\n",
       "      <td>42.00</td>\n",
       "      <td>42.0</td>\n",
       "      <td>3</td>\n",
       "      <td>...</td>\n",
       "      <td>1</td>\n",
       "      <td>712</td>\n",
       "      <td>1.32</td>\n",
       "      <td>7376</td>\n",
       "      <td>1.67</td>\n",
       "      <td>30</td>\n",
       "      <td>1428</td>\n",
       "      <td>395</td>\n",
       "      <td>352</td>\n",
       "      <td>30</td>\n",
       "    </tr>\n",
       "  </tbody>\n",
       "</table>\n",
       "<p>5 rows × 24 columns</p>\n",
       "</div>"
      ],
      "text/plain": [
       "    y  als_fst_id_nbank_inteday  d7_num  als_m12_id_nbank_tot_mons  \\\n",
       "5   1                       180      16                          3   \n",
       "9   1                         1       8                          1   \n",
       "12  1                         1       8                          1   \n",
       "31  1                       271      10                          3   \n",
       "35  1                         1      30                          1   \n",
       "\n",
       "    FIRST_REPAY  als_m12_id_tot_mons  FLX_PACKAGE  m12_num  m6_num  \\\n",
       "5           463                    3         0.65    66.00    33.0   \n",
       "9           649                    1         0.65    12.00    12.0   \n",
       "12          630                    1         0.67    12.00    12.0   \n",
       "31          246                    3         0.80    40.66    33.0   \n",
       "35          395                    1         0.65    42.00    42.0   \n",
       "\n",
       "    als_lst_id_nbank_consnum  ...  als_m6_id_tot_mons  m6_day  APROV_DURATION  \\\n",
       "5                          3  ...                   2     190            0.73   \n",
       "9                          1  ...                   1     712            0.57   \n",
       "12                         1  ...                   1     712            1.22   \n",
       "31                         1  ...                   2     216            9.32   \n",
       "35                         3  ...                   1     712            1.32   \n",
       "\n",
       "    TOTAL_PRICE  MONTH_RATE  d15_num  m12_day  MTH_REPAY_AMT  m3_day  m1_num  \n",
       "5          8130        1.67       16      190            463     352      16  \n",
       "9          8490        1.67        8     1428            649     352       8  \n",
       "12         7831        1.67        8     1428            630     352       8  \n",
       "31         4243        1.33       10      368            246      88      18  \n",
       "35         7376        1.67       30     1428            395     352      30  \n",
       "\n",
       "[5 rows x 24 columns]"
      ]
     },
     "execution_count": 10,
     "metadata": {},
     "output_type": "execute_result"
    }
   ],
   "source": [
    "bad = data.loc[(data['y'] == 1 )]\n",
    "bad.head()"
   ]
  },
  {
   "cell_type": "code",
   "execution_count": 11,
   "metadata": {},
   "outputs": [],
   "source": [
    "bady = bad['y']\n",
    "badX = bad.drop(['y'],axis=1)\n",
    "vol = 120"
   ]
  },
  {
   "cell_type": "code",
   "execution_count": 12,
   "metadata": {},
   "outputs": [],
   "source": [
    "from imblearn.over_sampling import SMOTE\n",
    "smo = SMOTE(random_state=42)\n",
    "X_test1 = X_train[0:vol]\n",
    "y_test1 = y_train[0:vol]\n",
    "X_smo, y_smo = smo.fit_sample(X_train, y_train)"
   ]
  },
  {
   "cell_type": "code",
   "execution_count": 13,
   "metadata": {},
   "outputs": [],
   "source": [
    "X_test = X_test.append(X_test1).values\n",
    "y_test = y_test.append(y_test1).values\n",
    "# badX = badX.values\n",
    "# bady = bady.values"
   ]
  },
  {
   "cell_type": "markdown",
   "metadata": {},
   "source": [
    "# XGboost"
   ]
  },
  {
   "cell_type": "code",
   "execution_count": 14,
   "metadata": {},
   "outputs": [
    {
     "name": "stdout",
     "output_type": "stream",
     "text": [
      "[0]\ttest-error:0.159722\ttrain-error:0.061882\n",
      "[1]\ttest-error:0.156944\ttrain-error:0.031059\n",
      "[2]\ttest-error:0.144444\ttrain-error:0.017647\n",
      "[3]\ttest-error:0.136111\ttrain-error:0.010118\n",
      "[4]\ttest-error:0.125\ttrain-error:0.007294\n",
      "[5]\ttest-error:0.131944\ttrain-error:0.006118\n",
      "[6]\ttest-error:0.129167\ttrain-error:0.004\n",
      "[7]\ttest-error:0.126389\ttrain-error:0.003765\n",
      "[8]\ttest-error:0.127778\ttrain-error:0.003294\n",
      "[9]\ttest-error:0.123611\ttrain-error:0.002118\n",
      "[10]\ttest-error:0.125\ttrain-error:0.002353\n",
      "[11]\ttest-error:0.123611\ttrain-error:0.001647\n",
      "[12]\ttest-error:0.123611\ttrain-error:0.001412\n",
      "[13]\ttest-error:0.127778\ttrain-error:0.001647\n",
      "[14]\ttest-error:0.125\ttrain-error:0.001412\n",
      "[15]\ttest-error:0.122222\ttrain-error:0.001176\n",
      "[16]\ttest-error:0.122222\ttrain-error:0.001176\n",
      "[17]\ttest-error:0.123611\ttrain-error:0.000941\n"
     ]
    },
    {
     "data": {
      "text/plain": [
       "{'f7': 34,\n",
       " 'f15': 292,\n",
       " 'f8': 25,\n",
       " 'f0': 79,\n",
       " 'f5': 87,\n",
       " 'f3': 175,\n",
       " 'f9': 39,\n",
       " 'f17': 62,\n",
       " 'f19': 58,\n",
       " 'f11': 134,\n",
       " 'f16': 152,\n",
       " 'f1': 49,\n",
       " 'f6': 58,\n",
       " 'f4': 11,\n",
       " 'f2': 24,\n",
       " 'f18': 19,\n",
       " 'f10': 25,\n",
       " 'f12': 21,\n",
       " 'f14': 36,\n",
       " 'f22': 20,\n",
       " 'f21': 24,\n",
       " 'f13': 9}"
      ]
     },
     "execution_count": 14,
     "metadata": {},
     "output_type": "execute_result"
    }
   ],
   "source": [
    "data_train = xgb.DMatrix(X_smo,y_smo)  # 使用XGBoost的原生版本需要对数据进行转化\n",
    "data_test = xgb.DMatrix(X_test,y_test)\n",
    " \n",
    "param = {'max_depth':15 , 'eta': 1, 'objective': 'binary:logistic'}\n",
    "watchlist = [(data_test, 'test'), (data_train, 'train')]\n",
    "n_round = 18\n",
    "booster = xgb.train(param, data_train, num_boost_round=n_round, evals=watchlist)\n",
    "\n",
    "booster.get_fscore()"
   ]
  },
  {
   "cell_type": "code",
   "execution_count": 15,
   "metadata": {},
   "outputs": [
    {
     "name": "stdout",
     "output_type": "stream",
     "text": [
      "Accuracy：0.876\n"
     ]
    }
   ],
   "source": [
    "# 计算错误率\n",
    "y_prob_1 = booster.predict(data_test)\n",
    "y_label = data_test.get_label()\n",
    " \n",
    "accuracy = sum(y_label == (y_prob_1 > 0.5))\n",
    "accuracy_rate = float(accuracy) / len(y_prob_1)\n",
    "# print ('样本总数：{0}'.format(len(y_predicted)))\n",
    "# print ('正确数目：{0}'.format(accuracy) )\n",
    "print ('Accuracy：{0:.3f}'.format((accuracy_rate)))"
   ]
  },
  {
   "cell_type": "code",
   "execution_count": 16,
   "metadata": {},
   "outputs": [],
   "source": [
    "# bdata_train = xgb.DMatrix(Xs_train, ys_train)  # 使用XGBoost的原生版本需要对数据进行转化\n",
    "# bdata_test = xgb.DMatrix(badX, bady)\n",
    " \n",
    "# # param = {'max_depth':32 , 'eta': 1, 'objective': 'binary:logistic'}\n",
    "# # watchlist = [(data_test, 'test'), (data_train, 'train')]\n",
    "# # n_round = 30\n",
    "# # booster = xgb.train(param, data_train, num_boost_round=n_round, evals=watchlist)\n",
    " \n",
    "# # 计算错误率\n",
    "# by_predicted = booster.predict(bdata_test)\n",
    "# by_label = bdata_test.get_label()\n",
    " \n",
    "# baccuracy = sum(by_label == (by_predicted > 0.5))\n",
    "# baccuracy_rate = float(baccuracy) / len(by_predicted)\n",
    "# print ('样本总数：{0}'.format(len(by_predicted)))\n",
    "# print ('正确数目：{0}'.format(baccuracy) )\n",
    "# print ('BADAccuracy：{0:.3f}'.format((baccuracy_rate)))"
   ]
  },
  {
   "cell_type": "code",
   "execution_count": 17,
   "metadata": {},
   "outputs": [],
   "source": [
    "# print('我们的加权分:',(accuracy_rate+baccuracy_rate)/2)"
   ]
  },
  {
   "cell_type": "code",
   "execution_count": 18,
   "metadata": {},
   "outputs": [
    {
     "name": "stdout",
     "output_type": "stream",
     "text": [
      "AUC: 0.7291\n",
      "KS: 0.4074902795099406\n"
     ]
    }
   ],
   "source": [
    "from sklearn import metrics\n",
    "print('AUC: %.4f' % metrics.roc_auc_score(y_label,y_prob_1))\n",
    "#metrics.roc_curve(y_label, y_predicted, pos_label=None, sample_weight=None, drop_intermediate=True)\n",
    "#print('ACC: %.4f' % metrics.accuracy_score(y_label,y_predicted))\n",
    "from scipy.stats import ks_2samp\n",
    "get_ks = lambda y_pred,y_true: ks_2samp(y_pred[y_true==1], y_pred[y_true!=1]).statistic\n",
    "print('KS:',get_ks(y_prob_1,y_label))"
   ]
  },
  {
   "cell_type": "code",
   "execution_count": 19,
   "metadata": {},
   "outputs": [],
   "source": [
    "# from sklearn.metrics import roc_curve, auc  ###计算roc和auc\n",
    "# # Compute ROC curve and ROC area for each class\n",
    "# fpr,tpr,threshold = roc_curve(y_label, y_predicted) ###计算真正率和假正率\n",
    "# roc_auc = auc(fpr,tpr) ###计算auc的值\n",
    "\n",
    "# plt.figure()\n",
    "# lw = 2\n",
    "# plt.figure(figsize=(5,5))\n",
    "# plt.plot(fpr, tpr, color='darkorange',\n",
    "#          lw=lw, label='ROC curve (area = %0.2f)' % roc_auc) ###假正率为横坐标，真正率为纵坐标做曲线\n",
    "# plt.plot([0, 1], [0, 1], color='navy', lw=lw, linestyle='--')\n",
    "# plt.xlim([0.0, 1.0])\n",
    "# plt.ylim([0.0, 1.05])\n",
    "# plt.xlabel('False Positive Rate')\n",
    "# plt.ylabel('True Positive Rate')\n",
    "# plt.title('Receiver operating characteristic example')\n",
    "# plt.legend(loc=\"lower right\")\n",
    "# plt.show()"
   ]
  },
  {
   "cell_type": "code",
   "execution_count": 20,
   "metadata": {},
   "outputs": [
    {
     "name": "stdout",
     "output_type": "stream",
     "text": [
      "ks_value is 0.3951 at pop = 0.8014\n"
     ]
    },
    {
     "name": "stderr",
     "output_type": "stream",
     "text": [
      "C:\\Users\\85185\\AppData\\Local\\Continuum\\anaconda3\\lib\\site-packages\\ipykernel_launcher.py:31: SettingWithCopyWarning: \n",
      "A value is trying to be set on a copy of a slice from a DataFrame.\n",
      "Try using .loc[row_indexer,col_indexer] = value instead\n",
      "\n",
      "See the caveats in the documentation: http://pandas.pydata.org/pandas-docs/stable/user_guide/indexing.html#returning-a-view-versus-a-copy\n",
      "C:\\Users\\85185\\AppData\\Local\\Continuum\\anaconda3\\lib\\site-packages\\ipykernel_launcher.py:32: SettingWithCopyWarning: \n",
      "A value is trying to be set on a copy of a slice from a DataFrame.\n",
      "Try using .loc[row_indexer,col_indexer] = value instead\n",
      "\n",
      "See the caveats in the documentation: http://pandas.pydata.org/pandas-docs/stable/user_guide/indexing.html#returning-a-view-versus-a-copy\n"
     ]
    },
    {
     "data": {
      "text/html": [
       "<div>\n",
       "<style scoped>\n",
       "    .dataframe tbody tr th:only-of-type {\n",
       "        vertical-align: middle;\n",
       "    }\n",
       "\n",
       "    .dataframe tbody tr th {\n",
       "        vertical-align: top;\n",
       "    }\n",
       "\n",
       "    .dataframe thead th {\n",
       "        text-align: right;\n",
       "    }\n",
       "</style>\n",
       "<table border=\"1\" class=\"dataframe\">\n",
       "  <thead>\n",
       "    <tr style=\"text-align: right;\">\n",
       "      <th></th>\n",
       "      <th>tile</th>\n",
       "      <th>cumsum_good</th>\n",
       "      <th>cumsum_bad</th>\n",
       "      <th>ks</th>\n",
       "    </tr>\n",
       "  </thead>\n",
       "  <tbody>\n",
       "    <tr>\n",
       "      <td>0</td>\n",
       "      <td>0.000000</td>\n",
       "      <td>0.000000</td>\n",
       "      <td>0.000000</td>\n",
       "      <td>0.000000</td>\n",
       "    </tr>\n",
       "    <tr>\n",
       "      <td>1</td>\n",
       "      <td>0.101389</td>\n",
       "      <td>0.105678</td>\n",
       "      <td>0.069767</td>\n",
       "      <td>0.035911</td>\n",
       "    </tr>\n",
       "    <tr>\n",
       "      <td>2</td>\n",
       "      <td>0.201389</td>\n",
       "      <td>0.214511</td>\n",
       "      <td>0.104651</td>\n",
       "      <td>0.109860</td>\n",
       "    </tr>\n",
       "    <tr>\n",
       "      <td>3</td>\n",
       "      <td>0.301389</td>\n",
       "      <td>0.324921</td>\n",
       "      <td>0.127907</td>\n",
       "      <td>0.197014</td>\n",
       "    </tr>\n",
       "    <tr>\n",
       "      <td>4</td>\n",
       "      <td>0.401389</td>\n",
       "      <td>0.430599</td>\n",
       "      <td>0.186047</td>\n",
       "      <td>0.244553</td>\n",
       "    </tr>\n",
       "    <tr>\n",
       "      <td>5</td>\n",
       "      <td>0.501389</td>\n",
       "      <td>0.534700</td>\n",
       "      <td>0.255814</td>\n",
       "      <td>0.278886</td>\n",
       "    </tr>\n",
       "    <tr>\n",
       "      <td>6</td>\n",
       "      <td>0.601389</td>\n",
       "      <td>0.641956</td>\n",
       "      <td>0.302326</td>\n",
       "      <td>0.339630</td>\n",
       "    </tr>\n",
       "    <tr>\n",
       "      <td>7</td>\n",
       "      <td>0.701389</td>\n",
       "      <td>0.742902</td>\n",
       "      <td>0.395349</td>\n",
       "      <td>0.347553</td>\n",
       "    </tr>\n",
       "    <tr>\n",
       "      <td>8</td>\n",
       "      <td>0.801389</td>\n",
       "      <td>0.848580</td>\n",
       "      <td>0.453488</td>\n",
       "      <td>0.395092</td>\n",
       "    </tr>\n",
       "    <tr>\n",
       "      <td>9</td>\n",
       "      <td>0.901389</td>\n",
       "      <td>0.940063</td>\n",
       "      <td>0.616279</td>\n",
       "      <td>0.323784</td>\n",
       "    </tr>\n",
       "    <tr>\n",
       "      <td>10</td>\n",
       "      <td>1.000000</td>\n",
       "      <td>1.000000</td>\n",
       "      <td>1.000000</td>\n",
       "      <td>0.000000</td>\n",
       "    </tr>\n",
       "  </tbody>\n",
       "</table>\n",
       "</div>"
      ],
      "text/plain": [
       "        tile  cumsum_good  cumsum_bad        ks\n",
       "0   0.000000     0.000000    0.000000  0.000000\n",
       "1   0.101389     0.105678    0.069767  0.035911\n",
       "2   0.201389     0.214511    0.104651  0.109860\n",
       "3   0.301389     0.324921    0.127907  0.197014\n",
       "4   0.401389     0.430599    0.186047  0.244553\n",
       "5   0.501389     0.534700    0.255814  0.278886\n",
       "6   0.601389     0.641956    0.302326  0.339630\n",
       "7   0.701389     0.742902    0.395349  0.347553\n",
       "8   0.801389     0.848580    0.453488  0.395092\n",
       "9   0.901389     0.940063    0.616279  0.323784\n",
       "10  1.000000     1.000000    1.000000  0.000000"
      ]
     },
     "execution_count": 20,
     "metadata": {},
     "output_type": "execute_result"
    },
    {
     "data": {
      "image/png": "[encoded data removed]",
      "text/plain": [
       "<Figure size 432x288 with 1 Axes>"
      ]
     },
     "metadata": {
      "needs_background": "light"
     },
     "output_type": "display_data"
    }
   ],
   "source": [
    "PlotKS(y_prob_1, y_label, 10, 1)#XGB的KS曲线"
   ]
  },
  {
   "cell_type": "code",
   "execution_count": 21,
   "metadata": {},
   "outputs": [
    {
     "data": {
      "image/png": "[encoded data removed]",
      "text/plain": [
       "<Figure size 360x288 with 1 Axes>"
      ]
     },
     "metadata": {
      "needs_background": "light"
     },
     "output_type": "display_data"
    }
   ],
   "source": [
    "result = pd.DataFrame(y_label)\n",
    "result['proba'] = pd.DataFrame(y_prob_1)\n",
    "\n",
    "result.columns = ['target','proba']\n",
    "result_ = result.copy()\n",
    "proba_copy = result.proba.copy()\n",
    "for i in range(10):\n",
    "    point1 = scoreatpercentile(result_.proba, i*(100/10))\n",
    "    point2 = scoreatpercentile(result_.proba, (i+1)*(100/10))\n",
    "    proba_copy[(result_.proba >= point1) & (result_.proba <= point2)] = ((i+1))\n",
    "result_['grade'] = proba_copy\n",
    "df_gain = result_.groupby(by=['grade'], sort=True).sum()/(len(result)/10)*100\n",
    "plt.plot(df_gain['target'], color='red')\n",
    "# for xy in zip(df_gain['target'].reset_index().values):\n",
    "#     plt.annotate(\"%s\" % round(xy[0][1],2), xy=xy[0], xytext=(-20, 10), textcoords='offset points')  \n",
    "plt.title('Lift Curve')\n",
    "plt.xlabel('Decile')\n",
    "plt.ylabel('Bad Rate (%)')\n",
    "plt.xticks([1.0,2.0,3.0,4.0,5.0,6.0,7.0,8.0,9.0,10.0])\n",
    "fig = plt.gcf()\n",
    "fig.set_size_inches(5,4)\n",
    "plt.show()"
   ]
  },
  {
   "cell_type": "markdown",
   "metadata": {},
   "source": [
    "# 随机森林"
   ]
  },
  {
   "cell_type": "code",
   "execution_count": 22,
   "metadata": {},
   "outputs": [],
   "source": [
    "from sklearn.ensemble import RandomForestClassifier\n",
    "from sklearn.linear_model import LinearRegression, LogisticRegression"
   ]
  },
  {
   "cell_type": "code",
   "execution_count": 23,
   "metadata": {},
   "outputs": [
    {
     "data": {
      "text/plain": [
       "array([0.02639006, 0.03360796, 0.04175362, 0.05579731, 0.04197801,\n",
       "       0.04243183, 0.07065565, 0.05934398, 0.04421995, 0.05577664,\n",
       "       0.03344606, 0.05892007, 0.02288767, 0.02457881, 0.01496472,\n",
       "       0.09806689, 0.05168667, 0.04829095, 0.03352616, 0.0188379 ,\n",
       "       0.05341892, 0.01423872, 0.05518146])"
      ]
     },
     "execution_count": 23,
     "metadata": {},
     "output_type": "execute_result"
    }
   ],
   "source": [
    "rf = RandomForestClassifier(criterion='gini',n_estimators=40,max_depth=32)\n",
    "rf.fit(X_smo,y_smo)\n",
    "\n",
    "rf.feature_importances_"
   ]
  },
  {
   "cell_type": "code",
   "execution_count": 24,
   "metadata": {},
   "outputs": [
    {
     "name": "stdout",
     "output_type": "stream",
     "text": [
      "正确率：0.878\n"
     ]
    }
   ],
   "source": [
    "y_pred_proba = rf.predict_proba(X_test)\n",
    "y_pred = rf.predict(X_test)\n",
    "accuracy = sum(y_test == y_pred)\n",
    "accuracy_rate = float(accuracy) / len(y_pred)\n",
    "y_label = data_test.get_label()\n",
    "# print ('样本总数：{0}'.format(len(y_pred)))\n",
    "# print ('正确数目：{0}'.format(accuracy) )\n",
    "print ('正确率：{0:.3f}'.format(accuracy_rate))"
   ]
  },
  {
   "cell_type": "code",
   "execution_count": 25,
   "metadata": {},
   "outputs": [],
   "source": [
    "# by_pred_proba = rf.predict_proba(badX)\n",
    "# by_pred = rf.predict(badX)\n",
    "# baccuracy = sum(bady == by_pred)\n",
    "# baccuracy_rate = float(baccuracy) / len(by_pred)\n",
    "# by_label = data_test.get_label()\n",
    "# print ('样本总数：{0}'.format(len(by_pred)))\n",
    "# print ('正确数目：{0}'.format(baccuracy) )\n",
    "# print ('正确率：{0:.3f}'.format(baccuracy_rate))"
   ]
  },
  {
   "cell_type": "code",
   "execution_count": 26,
   "metadata": {},
   "outputs": [],
   "source": [
    "# print('我们的加权分:',(accuracy_rate+baccuracy_rate)/2)"
   ]
  },
  {
   "cell_type": "code",
   "execution_count": 27,
   "metadata": {},
   "outputs": [
    {
     "name": "stdout",
     "output_type": "stream",
     "text": [
      "AUC: 0.7597\n"
     ]
    }
   ],
   "source": [
    "proba2 = pd.DataFrame(y_pred_proba)\n",
    "y_prob_2 = proba2[1].values\n",
    "print('AUC: %.4f' % metrics.roc_auc_score(y_label,y_prob_2))"
   ]
  },
  {
   "cell_type": "code",
   "execution_count": 28,
   "metadata": {},
   "outputs": [
    {
     "data": {
      "text/plain": [
       "<Figure size 432x288 with 0 Axes>"
      ]
     },
     "metadata": {},
     "output_type": "display_data"
    },
    {
     "data": {
      "image/png": "[encoded data removed]",
      "text/plain": [
       "<Figure size 360x360 with 1 Axes>"
      ]
     },
     "metadata": {
      "needs_background": "light"
     },
     "output_type": "display_data"
    }
   ],
   "source": [
    "from sklearn.metrics import roc_curve, auc  ###计算roc和auc\n",
    "# Compute ROC curve and ROC area for each class\n",
    "fpr,tpr,threshold = roc_curve(y_label, y_prob_2) ###计算真正率和假正率\n",
    "roc_auc = auc(fpr,tpr) ###计算auc的值\n",
    "\n",
    "plt.figure()\n",
    "lw = 2\n",
    "plt.figure(figsize=(5,5))\n",
    "plt.plot(fpr, tpr, color='darkorange',\n",
    "         lw=lw, label='ROC curve (area = %0.2f)' % roc_auc) ###假正率为横坐标，真正率为纵坐标做曲线\n",
    "plt.plot([0, 1], [0, 1], color='navy', lw=lw, linestyle='--')\n",
    "plt.xlim([0.0, 1.0])\n",
    "plt.ylim([0.0, 1.05])\n",
    "plt.xlabel('False Positive Rate')\n",
    "plt.ylabel('True Positive Rate')\n",
    "plt.title('Receiver operating characteristic example')\n",
    "plt.legend(loc=\"lower right\")\n",
    "plt.show()"
   ]
  },
  {
   "cell_type": "code",
   "execution_count": 29,
   "metadata": {},
   "outputs": [
    {
     "name": "stdout",
     "output_type": "stream",
     "text": [
      "KS: 0.4141662387205634\n"
     ]
    }
   ],
   "source": [
    "from scipy.stats import ks_2samp\n",
    "get_ks = lambda y_pred,y_true: ks_2samp(y_pred[y_true==1], y_pred[y_true!=1]).statistic\n",
    "print('KS:',get_ks(y_prob_2,y_label))"
   ]
  },
  {
   "cell_type": "code",
   "execution_count": 30,
   "metadata": {},
   "outputs": [
    {
     "name": "stdout",
     "output_type": "stream",
     "text": [
      "ks_value is 0.4017 at pop = 0.8014\n"
     ]
    },
    {
     "name": "stderr",
     "output_type": "stream",
     "text": [
      "C:\\Users\\85185\\AppData\\Local\\Continuum\\anaconda3\\lib\\site-packages\\ipykernel_launcher.py:31: SettingWithCopyWarning: \n",
      "A value is trying to be set on a copy of a slice from a DataFrame.\n",
      "Try using .loc[row_indexer,col_indexer] = value instead\n",
      "\n",
      "See the caveats in the documentation: http://pandas.pydata.org/pandas-docs/stable/user_guide/indexing.html#returning-a-view-versus-a-copy\n",
      "C:\\Users\\85185\\AppData\\Local\\Continuum\\anaconda3\\lib\\site-packages\\ipykernel_launcher.py:32: SettingWithCopyWarning: \n",
      "A value is trying to be set on a copy of a slice from a DataFrame.\n",
      "Try using .loc[row_indexer,col_indexer] = value instead\n",
      "\n",
      "See the caveats in the documentation: http://pandas.pydata.org/pandas-docs/stable/user_guide/indexing.html#returning-a-view-versus-a-copy\n"
     ]
    },
    {
     "data": {
      "text/html": [
       "<div>\n",
       "<style scoped>\n",
       "    .dataframe tbody tr th:only-of-type {\n",
       "        vertical-align: middle;\n",
       "    }\n",
       "\n",
       "    .dataframe tbody tr th {\n",
       "        vertical-align: top;\n",
       "    }\n",
       "\n",
       "    .dataframe thead th {\n",
       "        text-align: right;\n",
       "    }\n",
       "</style>\n",
       "<table border=\"1\" class=\"dataframe\">\n",
       "  <thead>\n",
       "    <tr style=\"text-align: right;\">\n",
       "      <th></th>\n",
       "      <th>tile</th>\n",
       "      <th>cumsum_good</th>\n",
       "      <th>cumsum_bad</th>\n",
       "      <th>ks</th>\n",
       "    </tr>\n",
       "  </thead>\n",
       "  <tbody>\n",
       "    <tr>\n",
       "      <td>0</td>\n",
       "      <td>0.000000</td>\n",
       "      <td>0.000000</td>\n",
       "      <td>0.000000</td>\n",
       "      <td>0.000000</td>\n",
       "    </tr>\n",
       "    <tr>\n",
       "      <td>1</td>\n",
       "      <td>0.101389</td>\n",
       "      <td>0.109621</td>\n",
       "      <td>0.040698</td>\n",
       "      <td>0.068924</td>\n",
       "    </tr>\n",
       "    <tr>\n",
       "      <td>2</td>\n",
       "      <td>0.201389</td>\n",
       "      <td>0.223186</td>\n",
       "      <td>0.040698</td>\n",
       "      <td>0.182488</td>\n",
       "    </tr>\n",
       "    <tr>\n",
       "      <td>3</td>\n",
       "      <td>0.301389</td>\n",
       "      <td>0.327287</td>\n",
       "      <td>0.110465</td>\n",
       "      <td>0.216822</td>\n",
       "    </tr>\n",
       "    <tr>\n",
       "      <td>4</td>\n",
       "      <td>0.401389</td>\n",
       "      <td>0.434543</td>\n",
       "      <td>0.156977</td>\n",
       "      <td>0.277566</td>\n",
       "    </tr>\n",
       "    <tr>\n",
       "      <td>5</td>\n",
       "      <td>0.501389</td>\n",
       "      <td>0.538644</td>\n",
       "      <td>0.226744</td>\n",
       "      <td>0.311899</td>\n",
       "    </tr>\n",
       "    <tr>\n",
       "      <td>6</td>\n",
       "      <td>0.601389</td>\n",
       "      <td>0.645899</td>\n",
       "      <td>0.273256</td>\n",
       "      <td>0.372643</td>\n",
       "    </tr>\n",
       "    <tr>\n",
       "      <td>7</td>\n",
       "      <td>0.701389</td>\n",
       "      <td>0.749211</td>\n",
       "      <td>0.348837</td>\n",
       "      <td>0.400374</td>\n",
       "    </tr>\n",
       "    <tr>\n",
       "      <td>8</td>\n",
       "      <td>0.801389</td>\n",
       "      <td>0.849369</td>\n",
       "      <td>0.447674</td>\n",
       "      <td>0.401695</td>\n",
       "    </tr>\n",
       "    <tr>\n",
       "      <td>9</td>\n",
       "      <td>0.901389</td>\n",
       "      <td>0.940063</td>\n",
       "      <td>0.616279</td>\n",
       "      <td>0.323784</td>\n",
       "    </tr>\n",
       "    <tr>\n",
       "      <td>10</td>\n",
       "      <td>1.000000</td>\n",
       "      <td>1.000000</td>\n",
       "      <td>1.000000</td>\n",
       "      <td>0.000000</td>\n",
       "    </tr>\n",
       "  </tbody>\n",
       "</table>\n",
       "</div>"
      ],
      "text/plain": [
       "        tile  cumsum_good  cumsum_bad        ks\n",
       "0   0.000000     0.000000    0.000000  0.000000\n",
       "1   0.101389     0.109621    0.040698  0.068924\n",
       "2   0.201389     0.223186    0.040698  0.182488\n",
       "3   0.301389     0.327287    0.110465  0.216822\n",
       "4   0.401389     0.434543    0.156977  0.277566\n",
       "5   0.501389     0.538644    0.226744  0.311899\n",
       "6   0.601389     0.645899    0.273256  0.372643\n",
       "7   0.701389     0.749211    0.348837  0.400374\n",
       "8   0.801389     0.849369    0.447674  0.401695\n",
       "9   0.901389     0.940063    0.616279  0.323784\n",
       "10  1.000000     1.000000    1.000000  0.000000"
      ]
     },
     "execution_count": 30,
     "metadata": {},
     "output_type": "execute_result"
    },
    {
     "data": {
      "image/png": "[encoded data removed]",
      "text/plain": [
       "<Figure size 432x288 with 1 Axes>"
      ]
     },
     "metadata": {
      "needs_background": "light"
     },
     "output_type": "display_data"
    }
   ],
   "source": [
    "PlotKS(y_prob_2, y_label, 10, 1)#RF的KS曲线"
   ]
  },
  {
   "cell_type": "code",
   "execution_count": 31,
   "metadata": {
    "scrolled": true
   },
   "outputs": [
    {
     "data": {
      "image/png": "[encoded data removed]",
      "text/plain": [
       "<Figure size 360x288 with 1 Axes>"
      ]
     },
     "metadata": {
      "needs_background": "light"
     },
     "output_type": "display_data"
    }
   ],
   "source": [
    "result = pd.DataFrame(y_label)\n",
    "result['proba'] = pd.DataFrame(y_prob_2)\n",
    "\n",
    "result.columns = ['target','proba']\n",
    "result_ = result.copy()\n",
    "proba_copy = result.proba.copy()\n",
    "for i in range(10):\n",
    "    point1 = scoreatpercentile(result_.proba, i*(100/10))\n",
    "    point2 = scoreatpercentile(result_.proba, (i+1)*(100/10))\n",
    "    proba_copy[(result_.proba >= point1) & (result_.proba <= point2)] = ((i+1))\n",
    "result_['grade'] = proba_copy\n",
    "df_gain = result_.groupby(by=['grade'], sort=True).sum()/(len(result)/10)*100\n",
    "plt.plot(df_gain['target'], color='red')\n",
    "# for xy in zip(df_gain['target'].reset_index().values):\n",
    "#     plt.annotate(\"%s\" % round(xy[0][1],2), xy=xy[0], xytext=(-20, 10), textcoords='offset points')  \n",
    "\n",
    "plt.title('Lift Curve of RF')\n",
    "plt.xlabel('Decile')\n",
    "plt.ylabel('Bad Rate (%)')\n",
    "plt.xticks([1.0,2.0,3.0,4.0,5.0,6.0,7.0,8.0,9.0,10.0])\n",
    "fig = plt.gcf()\n",
    "fig.set_size_inches(5,4)\n",
    "plt.show()"
   ]
  },
  {
   "cell_type": "markdown",
   "metadata": {},
   "source": [
    "# 逻辑回归"
   ]
  },
  {
   "cell_type": "code",
   "execution_count": 32,
   "metadata": {},
   "outputs": [
    {
     "name": "stdout",
     "output_type": "stream",
     "text": [
      "Training accuracy: 0.7254117647058823\n",
      "Test accuracy: 0.7319444444444444\n"
     ]
    },
    {
     "name": "stderr",
     "output_type": "stream",
     "text": [
      "C:\\Users\\85185\\AppData\\Local\\Continuum\\anaconda3\\lib\\site-packages\\sklearn\\linear_model\\logistic.py:432: FutureWarning: Default solver will be changed to 'lbfgs' in 0.22. Specify a solver to silence this warning.\n",
      "  FutureWarning)\n"
     ]
    }
   ],
   "source": [
    "from sklearn.linear_model import LogisticRegression\n",
    "lr = LogisticRegression(C = 10)\n",
    "lr.fit(X_smo, y_smo)\n",
    "print('Training accuracy:', lr.score(X_smo, y_smo))\n",
    "print('Test accuracy:', lr.score(X_test, y_test))"
   ]
  },
  {
   "cell_type": "code",
   "execution_count": 33,
   "metadata": {},
   "outputs": [],
   "source": [
    "y_pred_3 = lr.predict(X_test)"
   ]
  },
  {
   "cell_type": "markdown",
   "metadata": {},
   "source": [
    "# 投票 "
   ]
  },
  {
   "cell_type": "code",
   "execution_count": 34,
   "metadata": {},
   "outputs": [
    {
     "data": {
      "text/plain": [
       "(12, 9)"
      ]
     },
     "execution_count": 34,
     "metadata": {},
     "output_type": "execute_result"
    }
   ],
   "source": [
    "bestaks = 0\n",
    "for i in range(0,20):\n",
    "    for j in range(0,20):\n",
    "        a = 0.1*i\n",
    "        b = 0.1*j\n",
    "        c = 3-a-b\n",
    "        y_pre = (a*y_prob_1 + b*y_prob_2 + c*y_pred_3 )/3\n",
    "        ks = get_ks(y_pre,y_label)\n",
    "        accuracy = sum(y_label == (y_pre > 0.5))\n",
    "        accuracy_rate = float(accuracy) / len(y_pre)\n",
    "        if (4*ks+accuracy_rate)  > bestaks:\n",
    "            bestaks = 4*ks + 1*accuracy_rate\n",
    "            besti = i\n",
    "            bestj = j\n",
    "besti,bestj"
   ]
  },
  {
   "cell_type": "code",
   "execution_count": 35,
   "metadata": {},
   "outputs": [
    {
     "name": "stdout",
     "output_type": "stream",
     "text": [
      "KS: 0.4690\n",
      "Accuracy：0.868\n",
      "AUC: 0.7499\n"
     ]
    }
   ],
   "source": [
    "y_pre = (0.1*besti*y_prob_1 + 0.1*bestj*y_prob_2 + 0.1*(30-besti-bestj)*y_pred_3 )/3\n",
    "accuracy = sum(y_label == (y_pre > 0.5))\n",
    "accuracy_rate = float(accuracy) / len(y_pre)\n",
    "print('KS: %.4f' % get_ks(y_pre,y_label))\n",
    "print ('Accuracy：{0:.3f}'.format((accuracy_rate)))\n",
    "print('AUC: %.4f' % metrics.roc_auc_score(y_label,y_pre))"
   ]
  },
  {
   "cell_type": "code",
   "execution_count": 36,
   "metadata": {},
   "outputs": [
    {
     "data": {
      "text/plain": [
       "<Figure size 432x288 with 0 Axes>"
      ]
     },
     "metadata": {},
     "output_type": "display_data"
    },
    {
     "data": {
      "image/png": "[encoded data removed]",
      "text/plain": [
       "<Figure size 360x360 with 1 Axes>"
      ]
     },
     "metadata": {
      "needs_background": "light"
     },
     "output_type": "display_data"
    }
   ],
   "source": [
    "from sklearn.metrics import roc_curve, auc  ###计算roc和auc\n",
    "# Compute ROC curve and ROC area for each class\n",
    "fpr,tpr,threshold = roc_curve(y_label, y_pre) ###计算真正率和假正率\n",
    "roc_auc = auc(fpr,tpr) ###计算auc的值\n",
    "\n",
    "plt.figure()\n",
    "lw = 2\n",
    "plt.figure(figsize=(5,5))\n",
    "plt.plot(fpr, tpr, color='orange',\n",
    "         lw=lw, label='ROC curve (area = %0.2f)' % roc_auc) ###假正率为横坐标，真正率为纵坐标做曲线\n",
    "plt.plot([0, 1], [0, 1], color='navy', lw=lw, linestyle='--')\n",
    "plt.xlim([0.0, 1.0])\n",
    "plt.ylim([0.0, 1.05])\n",
    "plt.xlabel('False Positive Rate')\n",
    "plt.ylabel('True Positive Rate')\n",
    "plt.title('Receiver operating characteristic example')\n",
    "plt.legend(loc=\"lower right\")\n",
    "plt.show()"
   ]
  },
  {
   "cell_type": "code",
   "execution_count": 37,
   "metadata": {},
   "outputs": [
    {
     "name": "stdout",
     "output_type": "stream",
     "text": [
      "ks_value is 0.4611 at pop = 0.8014\n"
     ]
    },
    {
     "name": "stderr",
     "output_type": "stream",
     "text": [
      "C:\\Users\\85185\\AppData\\Local\\Continuum\\anaconda3\\lib\\site-packages\\ipykernel_launcher.py:31: SettingWithCopyWarning: \n",
      "A value is trying to be set on a copy of a slice from a DataFrame.\n",
      "Try using .loc[row_indexer,col_indexer] = value instead\n",
      "\n",
      "See the caveats in the documentation: http://pandas.pydata.org/pandas-docs/stable/user_guide/indexing.html#returning-a-view-versus-a-copy\n",
      "C:\\Users\\85185\\AppData\\Local\\Continuum\\anaconda3\\lib\\site-packages\\ipykernel_launcher.py:32: SettingWithCopyWarning: \n",
      "A value is trying to be set on a copy of a slice from a DataFrame.\n",
      "Try using .loc[row_indexer,col_indexer] = value instead\n",
      "\n",
      "See the caveats in the documentation: http://pandas.pydata.org/pandas-docs/stable/user_guide/indexing.html#returning-a-view-versus-a-copy\n"
     ]
    },
    {
     "data": {
      "text/html": [
       "<div>\n",
       "<style scoped>\n",
       "    .dataframe tbody tr th:only-of-type {\n",
       "        vertical-align: middle;\n",
       "    }\n",
       "\n",
       "    .dataframe tbody tr th {\n",
       "        vertical-align: top;\n",
       "    }\n",
       "\n",
       "    .dataframe thead th {\n",
       "        text-align: right;\n",
       "    }\n",
       "</style>\n",
       "<table border=\"1\" class=\"dataframe\">\n",
       "  <thead>\n",
       "    <tr style=\"text-align: right;\">\n",
       "      <th></th>\n",
       "      <th>tile</th>\n",
       "      <th>cumsum_good</th>\n",
       "      <th>cumsum_bad</th>\n",
       "      <th>ks</th>\n",
       "    </tr>\n",
       "  </thead>\n",
       "  <tbody>\n",
       "    <tr>\n",
       "      <td>0</td>\n",
       "      <td>0.000000</td>\n",
       "      <td>0.000000</td>\n",
       "      <td>0.000000</td>\n",
       "      <td>0.000000</td>\n",
       "    </tr>\n",
       "    <tr>\n",
       "      <td>1</td>\n",
       "      <td>0.101389</td>\n",
       "      <td>0.108833</td>\n",
       "      <td>0.046512</td>\n",
       "      <td>0.062321</td>\n",
       "    </tr>\n",
       "    <tr>\n",
       "      <td>2</td>\n",
       "      <td>0.201389</td>\n",
       "      <td>0.217666</td>\n",
       "      <td>0.081395</td>\n",
       "      <td>0.136270</td>\n",
       "    </tr>\n",
       "    <tr>\n",
       "      <td>3</td>\n",
       "      <td>0.301389</td>\n",
       "      <td>0.324921</td>\n",
       "      <td>0.127907</td>\n",
       "      <td>0.197014</td>\n",
       "    </tr>\n",
       "    <tr>\n",
       "      <td>4</td>\n",
       "      <td>0.401389</td>\n",
       "      <td>0.430599</td>\n",
       "      <td>0.186047</td>\n",
       "      <td>0.244553</td>\n",
       "    </tr>\n",
       "    <tr>\n",
       "      <td>5</td>\n",
       "      <td>0.501389</td>\n",
       "      <td>0.539432</td>\n",
       "      <td>0.220930</td>\n",
       "      <td>0.318502</td>\n",
       "    </tr>\n",
       "    <tr>\n",
       "      <td>6</td>\n",
       "      <td>0.601389</td>\n",
       "      <td>0.643533</td>\n",
       "      <td>0.290698</td>\n",
       "      <td>0.352835</td>\n",
       "    </tr>\n",
       "    <tr>\n",
       "      <td>7</td>\n",
       "      <td>0.701389</td>\n",
       "      <td>0.747634</td>\n",
       "      <td>0.360465</td>\n",
       "      <td>0.387169</td>\n",
       "    </tr>\n",
       "    <tr>\n",
       "      <td>8</td>\n",
       "      <td>0.801389</td>\n",
       "      <td>0.856467</td>\n",
       "      <td>0.395349</td>\n",
       "      <td>0.461118</td>\n",
       "    </tr>\n",
       "    <tr>\n",
       "      <td>9</td>\n",
       "      <td>0.901389</td>\n",
       "      <td>0.938486</td>\n",
       "      <td>0.627907</td>\n",
       "      <td>0.310579</td>\n",
       "    </tr>\n",
       "    <tr>\n",
       "      <td>10</td>\n",
       "      <td>1.000000</td>\n",
       "      <td>1.000000</td>\n",
       "      <td>1.000000</td>\n",
       "      <td>0.000000</td>\n",
       "    </tr>\n",
       "  </tbody>\n",
       "</table>\n",
       "</div>"
      ],
      "text/plain": [
       "        tile  cumsum_good  cumsum_bad        ks\n",
       "0   0.000000     0.000000    0.000000  0.000000\n",
       "1   0.101389     0.108833    0.046512  0.062321\n",
       "2   0.201389     0.217666    0.081395  0.136270\n",
       "3   0.301389     0.324921    0.127907  0.197014\n",
       "4   0.401389     0.430599    0.186047  0.244553\n",
       "5   0.501389     0.539432    0.220930  0.318502\n",
       "6   0.601389     0.643533    0.290698  0.352835\n",
       "7   0.701389     0.747634    0.360465  0.387169\n",
       "8   0.801389     0.856467    0.395349  0.461118\n",
       "9   0.901389     0.938486    0.627907  0.310579\n",
       "10  1.000000     1.000000    1.000000  0.000000"
      ]
     },
     "execution_count": 37,
     "metadata": {},
     "output_type": "execute_result"
    },
    {
     "data": {
      "image/png": "[encoded data removed]",
      "text/plain": [
       "<Figure size 432x288 with 1 Axes>"
      ]
     },
     "metadata": {
      "needs_background": "light"
     },
     "output_type": "display_data"
    }
   ],
   "source": [
    "PlotKS(y_pre, y_label, 10, 1)#KS曲线"
   ]
  },
  {
   "cell_type": "code",
   "execution_count": 38,
   "metadata": {},
   "outputs": [
    {
     "data": {
      "image/png": "[encoded data removed]",
      "text/plain": [
       "<Figure size 360x288 with 1 Axes>"
      ]
     },
     "metadata": {
      "needs_background": "light"
     },
     "output_type": "display_data"
    }
   ],
   "source": [
    "result = pd.DataFrame(y_label)\n",
    "result['proba'] = pd.DataFrame(y_pre)\n",
    "\n",
    "result.columns = ['target','proba']\n",
    "result_ = result.copy()\n",
    "proba_copy = result.proba.copy()\n",
    "for i in range(10):\n",
    "    point1 = scoreatpercentile(result_.proba, i*(100/10))\n",
    "    point2 = scoreatpercentile(result_.proba, (i+1)*(100/10))\n",
    "    proba_copy[(result_.proba >= point1) & (result_.proba <= point2)] = ((i+1))\n",
    "result_['grade'] = proba_copy\n",
    "df_gain = result_.groupby(by=['grade'], sort=True).sum()/(len(result)/10)*100\n",
    "plt.plot(df_gain['target'], color='red')\n",
    "# for xy in zip(df_gain['target'].reset_index().values):\n",
    "#     plt.annotate(\"%s\" % round(xy[0][1],2), xy=xy[0], xytext=(-20, 10), textcoords='offset points')  \n",
    "\n",
    "plt.title('Lift Curve of RF')\n",
    "plt.xlabel('Decile')\n",
    "plt.ylabel('Bad Rate (%)')\n",
    "plt.xticks([1.0,2.0,3.0,4.0,5.0,6.0,7.0,8.0,9.0,10.0])\n",
    "fig = plt.gcf()\n",
    "fig.set_size_inches(5,4)\n",
    "plt.show()"
   ]
  },
  {
   "cell_type": "code",
   "execution_count": 1,
   "metadata": {},
   "outputs": [
    {
     "name": "stdout",
     "output_type": "stream",
     "text": [
      "AUC: 0.7500\n"
     ]
    }
   ],
   "source": [
    "data1 = [0., 0., 0., 0., 0., 0.,1., 1., 1., 1., 1., 1.]\n",
    "data2 = [0.3,0.4,0.6,0.2,0.7,0.5,0.1,0.9,0.7,0.5,0.9,0.8]\n",
    "from sklearn import metrics\n",
    "print('AUC: %.4f' % metrics.roc_auc_score(data1,data2))"
   ]
  }
 ],
 "metadata": {
  "kernelspec": {
   "display_name": "Python 3",
   "language": "python",
   "name": "python3"
  },
  "language_info": {
   "codemirror_mode": {
    "name": "ipython",
    "version": 3
   },
   "file_extension": ".py",
   "mimetype": "text/x-python",
   "name": "python",
   "nbconvert_exporter": "python",
   "pygments_lexer": "ipython3",
   "version": "3.7.4"
  }
 },
 "nbformat": 4,
 "nbformat_minor": 2
}
